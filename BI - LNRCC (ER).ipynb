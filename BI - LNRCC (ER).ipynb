{
 "cells": [
  {
   "cell_type": "code",
   "execution_count": 1,
   "id": "9346e4c1-5d5e-4e5f-8f88-7ebe7cf9c648",
   "metadata": {},
   "outputs": [
    {
     "name": "stdout",
     "output_type": "stream",
     "text": [
      "Dados importados com sucesso para o banco de dados SQLite.\n"
     ]
    }
   ],
   "source": [
    "import os\n",
    "import sqlite3\n",
    "import pandas as pd\n",
    "from dbfread import DBF\n",
    "import sys\n",
    "\n",
    "# Função para ler arquivos .DBF e convertê-los em DataFrames\n",
    "def read_dbf(file_path):\n",
    "    table = DBF(file_path, load=True)\n",
    "    return pd.DataFrame(iter(table))\n",
    "\n",
    "# Caminho para a pasta onde estão os arquivos .DBF\n",
    "pasta_dbf = r\"C:\\TABWIN\\Produção Hospitalar (ER)\"\n",
    "\n",
    "# Lista para armazenar os DataFrames lidos\n",
    "dataframes = []\n",
    "\n",
    "# Percorrer todos os arquivos na pasta\n",
    "for arquivo in os.listdir(pasta_dbf):\n",
    "    if arquivo.lower().endswith('.dbf'):  # Verifica se o arquivo é .DBF\n",
    "        caminho_arquivo = os.path.join(pasta_dbf, arquivo)\n",
    "        # Ler o arquivo .DBF e adicioná-lo à lista de DataFrames\n",
    "        df = read_dbf(caminho_arquivo)\n",
    "        # Aplicar o filtro para SP_CNES\n",
    "        if 'CNES' in df.columns:\n",
    "            df['CNES'] = df['CNES'].astype(str)  # Garante que a coluna seja string para comparação\n",
    "            df = df[df['CNES'] == '2409194']\n",
    "            if not df.empty:\n",
    "                dataframes.append(df)\n",
    "        else:\n",
    "            print(f\"Coluna 'CNES' não encontrada no arquivo: {arquivo}\")\n",
    "\n",
    "# Concatenar todos os DataFrames em um único\n",
    "if dataframes:\n",
    "    df_unido = pd.concat(dataframes, ignore_index=True)\n",
    "else:\n",
    "    print(\"Nenhum arquivo .DBF com o valor CNES = '2409194' foi encontrado.\")\n",
    "    sys.exit()\n",
    "\n",
    "# Criar uma conexão com o banco de dados SQLite\n",
    "conn = sqlite3.connect(\"Banco_ER.db\")  # Arquivo correto do banco de dados\n",
    "\n",
    "# Importar os dados para o banco de dados, garantindo que o nome da tabela seja representativo\n",
    "df_unido.to_sql(\"ER\", conn, if_exists=\"replace\", index=False)\n",
    "\n",
    "# Fechar a conexão\n",
    "conn.close()\n",
    "\n",
    "print(\"Dados importados com sucesso para o banco de dados SQLite.\")"
   ]
  },
  {
   "cell_type": "code",
   "execution_count": 2,
   "id": "bc193f9c-c29f-4d79-982d-27334a6bb42d",
   "metadata": {},
   "outputs": [
    {
     "name": "stdout",
     "output_type": "stream",
     "text": [
      "Dados exportados para 'dados_tratados_er.csv' com formatação de moeda brasileira.\n"
     ]
    }
   ],
   "source": [
    "import pandas as pd\n",
    "import sqlite3\n",
    "\n",
    "# Conectar ao banco de dados SQLite\n",
    "conn = sqlite3.connect(\"Banco_ER.db\")\n",
    "\n",
    "# Carregar apenas as colunas necessárias com filtros\n",
    "query = \"\"\"\n",
    "SELECT\n",
    "    CNES,\n",
    "    AIH,\n",
    "    ANO,\n",
    "    MES,\n",
    "    CO_ERRO\n",
    "FROM ER\n",
    "\"\"\"  # Nome da tabela adicionado\n",
    "df = pd.read_sql_query(query, conn)\n",
    "\n",
    "# Fechar a conexão\n",
    "conn.close()\n",
    "\n",
    "# Salvar os dados tratados em um arquivo CSV com a formatação correta\n",
    "df.to_csv(\"dados_tratados_er.csv\", index=False)\n",
    "\n",
    "print(\"Dados exportados para 'dados_tratados_er.csv' com formatação de moeda brasileira.\")"
   ]
  },
  {
   "cell_type": "markdown",
   "id": "f992f4a2-b51b-4ca1-b539-0e345b48eaec",
   "metadata": {},
   "source": [
    "# 2374749"
   ]
  },
  {
   "cell_type": "code",
   "execution_count": 1,
   "id": "130f5583-58b0-4056-b782-78351317b9b5",
   "metadata": {},
   "outputs": [
    {
     "name": "stdout",
     "output_type": "stream",
     "text": [
      "Dados importados com sucesso para o banco de dados SQLite.\n"
     ]
    }
   ],
   "source": [
    "import os\n",
    "import sqlite3\n",
    "import pandas as pd\n",
    "from dbfread import DBF\n",
    "import sys\n",
    "\n",
    "# Função para ler arquivos .DBF e convertê-los em DataFrames\n",
    "def read_dbf(file_path):\n",
    "    table = DBF(file_path, load=True)\n",
    "    return pd.DataFrame(iter(table))\n",
    "\n",
    "# Caminho para a pasta onde estão os arquivos .DBF\n",
    "pasta_dbf = r\"C:\\TABWIN\\Produção Hospitalar (ER)\"\n",
    "\n",
    "# Lista para armazenar os DataFrames lidos\n",
    "dataframes = []\n",
    "\n",
    "# Percorrer todos os arquivos na pasta\n",
    "for arquivo in os.listdir(pasta_dbf):\n",
    "    if arquivo.lower().endswith('.dbf'):  # Verifica se o arquivo é .DBF\n",
    "        caminho_arquivo = os.path.join(pasta_dbf, arquivo)\n",
    "        # Ler o arquivo .DBF e adicioná-lo à lista de DataFrames\n",
    "        df = read_dbf(caminho_arquivo)\n",
    "        # Aplicar o filtro para SP_CNES\n",
    "        if 'CNES' in df.columns:\n",
    "            df['CNES'] = df['CNES'].astype(str)  # Garante que a coluna seja string para comparação\n",
    "            df = df[df['CNES'] == '2374749']\n",
    "            if not df.empty:\n",
    "                dataframes.append(df)\n",
    "        else:\n",
    "            print(f\"Coluna 'CNES' não encontrada no arquivo: {arquivo}\")\n",
    "\n",
    "# Concatenar todos os DataFrames em um único\n",
    "if dataframes:\n",
    "    df_unido = pd.concat(dataframes, ignore_index=True)\n",
    "else:\n",
    "    print(\"Nenhum arquivo .DBF com o valor CNES = '2374749' foi encontrado.\")\n",
    "    sys.exit()\n",
    "\n",
    "# Criar uma conexão com o banco de dados SQLite\n",
    "conn = sqlite3.connect(\"Banco_ER_2374749.db\")  # Arquivo correto do banco de dados\n",
    "\n",
    "# Importar os dados para o banco de dados, garantindo que o nome da tabela seja representativo\n",
    "df_unido.to_sql(\"ER\", conn, if_exists=\"replace\", index=False)\n",
    "\n",
    "# Fechar a conexão\n",
    "conn.close()\n",
    "\n",
    "print(\"Dados importados com sucesso para o banco de dados SQLite.\")"
   ]
  },
  {
   "cell_type": "code",
   "execution_count": 2,
   "id": "7912dcb2-ba8d-492e-a98e-02f6fa97fd0d",
   "metadata": {},
   "outputs": [
    {
     "name": "stdout",
     "output_type": "stream",
     "text": [
      "Dados exportados para 'dados_tratados_er_2374749.csv'.\n"
     ]
    }
   ],
   "source": [
    "import pandas as pd\n",
    "import sqlite3\n",
    "\n",
    "# Conectar ao banco de dados SQLite\n",
    "conn = sqlite3.connect(\"Banco_ER_2374749.db\")\n",
    "\n",
    "# Carregar apenas as colunas necessárias com filtros\n",
    "query = \"\"\"\n",
    "SELECT\n",
    "    CNES,\n",
    "    AIH,\n",
    "    ANO,\n",
    "    MES,\n",
    "    CO_ERRO\n",
    "FROM ER\n",
    "\"\"\"  # Nome da tabela adicionado\n",
    "df = pd.read_sql_query(query, conn)\n",
    "\n",
    "# Fechar a conexão\n",
    "conn.close()\n",
    "\n",
    "# Salvar os dados tratados em um arquivo CSV com a formatação correta\n",
    "df.to_csv(\"dados_tratados_er_2374749.csv\", index=False)\n",
    "\n",
    "print(\"Dados exportados para 'dados_tratados_er_2374749.csv'.\")"
   ]
  },
  {
   "cell_type": "markdown",
   "id": "729158bf-97b5-467e-b2e8-a2c667b467b9",
   "metadata": {},
   "source": [
    "# BENCHMARKING"
   ]
  },
  {
   "cell_type": "code",
   "execution_count": 1,
   "id": "ee7a0d19-dd42-4719-ae49-ab3396130330",
   "metadata": {},
   "outputs": [
    {
     "name": "stdout",
     "output_type": "stream",
     "text": [
      "Todos os dados foram importados com sucesso para o banco de dados SQLite.\n"
     ]
    }
   ],
   "source": [
    "import os\n",
    "import sqlite3\n",
    "import pandas as pd\n",
    "from dbfread import DBF\n",
    "import sys\n",
    "\n",
    "# Função para ler arquivos .DBF e convertê-los em DataFrames\n",
    "def read_dbf(file_path):\n",
    "    table = DBF(file_path, load=True)\n",
    "    return pd.DataFrame(iter(table))\n",
    "\n",
    "# Caminho para a pasta onde estão os arquivos .DBF\n",
    "pasta_dbf = r\"C:\\TABWIN\\Produção Hospitalar (ER)\"\n",
    "\n",
    "# Lista para armazenar os DataFrames lidos\n",
    "dataframes = []\n",
    "\n",
    "# Percorrer todos os arquivos na pasta\n",
    "for arquivo in os.listdir(pasta_dbf):\n",
    "    if arquivo.lower().endswith('.dbf'):  # Verifica se o arquivo é .DBF\n",
    "        caminho_arquivo = os.path.join(pasta_dbf, arquivo)\n",
    "        # Ler o arquivo .DBF e adicioná-lo à lista de DataFrames\n",
    "        df = read_dbf(caminho_arquivo)\n",
    "        if not df.empty:\n",
    "            dataframes.append(df)\n",
    "\n",
    "# Concatenar todos os DataFrames em um único\n",
    "if dataframes:\n",
    "    df_unido = pd.concat(dataframes, ignore_index=True)\n",
    "else:\n",
    "    print(\"Nenhum arquivo .DBF válido foi encontrado.\")\n",
    "    sys.exit()\n",
    "\n",
    "# Criar uma conexão com o banco de dados SQLite\n",
    "conn = sqlite3.connect(\"Banco_ER_total.db\")  # Nome genérico do banco, sem referência ao CNES\n",
    "\n",
    "# Importar os dados para o banco de dados\n",
    "df_unido.to_sql(\"ER\", conn, if_exists=\"replace\", index=False)\n",
    "\n",
    "# Fechar a conexão\n",
    "conn.close()\n",
    "\n",
    "print(\"Todos os dados foram importados com sucesso para o banco de dados SQLite.\")"
   ]
  },
  {
   "cell_type": "code",
   "execution_count": 2,
   "id": "a66ab82c-229e-49f2-9e61-4bddca24ce54",
   "metadata": {},
   "outputs": [
    {
     "name": "stdout",
     "output_type": "stream",
     "text": [
      "Dados exportados para 'dados_tratados_er_total.csv'.\n"
     ]
    }
   ],
   "source": [
    "import pandas as pd\n",
    "import sqlite3\n",
    "\n",
    "# Conectar ao banco de dados SQLite\n",
    "conn = sqlite3.connect(\"Banco_ER_total.db\")\n",
    "\n",
    "# Carregar apenas as colunas necessárias com filtros\n",
    "query = \"\"\"\n",
    "SELECT\n",
    "    CNES,\n",
    "    AIH,\n",
    "    ANO,\n",
    "    MES,\n",
    "    CO_ERRO\n",
    "FROM ER\n",
    "\"\"\"  # Nome da tabela adicionado\n",
    "df = pd.read_sql_query(query, conn)\n",
    "\n",
    "# Fechar a conexão\n",
    "conn.close()\n",
    "\n",
    "# Salvar os dados tratados em um arquivo CSV com a formatação correta\n",
    "df.to_csv(\"dados_tratados_er_total.csv\", index=False)\n",
    "\n",
    "print(\"Dados exportados para 'dados_tratados_er_total.csv'.\")"
   ]
  },
  {
   "cell_type": "code",
   "execution_count": null,
   "id": "93c2a775-c08b-4943-a1f4-b2bb2cc51e31",
   "metadata": {},
   "outputs": [],
   "source": []
  }
 ],
 "metadata": {
  "kernelspec": {
   "display_name": "Python 3 (ipykernel)",
   "language": "python",
   "name": "python3"
  },
  "language_info": {
   "codemirror_mode": {
    "name": "ipython",
    "version": 3
   },
   "file_extension": ".py",
   "mimetype": "text/x-python",
   "name": "python",
   "nbconvert_exporter": "python",
   "pygments_lexer": "ipython3",
   "version": "3.12.4"
  }
 },
 "nbformat": 4,
 "nbformat_minor": 5
}
